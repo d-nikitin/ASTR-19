{
  "nbformat": 4,
  "nbformat_minor": 0,
  "metadata": {
    "colab": {
      "name": "w6.ipynb",
      "provenance": []
    },
    "kernelspec": {
      "name": "python3",
      "display_name": "Python 3"
    },
    "language_info": {
      "name": "python"
    }
  },
  "cells": [
    {
      "cell_type": "markdown",
      "source": [
        "6) Session 6 Prompt: Create a Jupyter Notebook where, in separate cells, you define functions that return sin(x) and cos(x).  Use Markdown cells to comment your Notebook, and describe what each function does. Create a third Python cell that will tabulate sin(x) and cos(x) using these previously defined functions vs. x, where x is tabulated between 0 and 2 with a thousand entries. Write a fourth Python cell that will use a for loop to print out the first 10 values of x, sin(x), and cos(x) in columns."
      ],
      "metadata": {
        "id": "r43CRMoHk4b0"
      }
    },
    {
      "cell_type": "code",
      "execution_count": 1,
      "metadata": {
        "id": "7P9VCdyPkzrP"
      },
      "outputs": [],
      "source": [
        "# imports \n",
        "import numpy as np\n",
        "from math import pi, sin, cos"
      ]
    },
    {
      "cell_type": "code",
      "source": [
        "# defined sinx function to return sin of x\n",
        "def sinx(x):\n",
        "  return sin(x)\n",
        "# defined cosx function to return cos of x\n",
        "def cosx(x):\n",
        "  return cos(x)"
      ],
      "metadata": {
        "id": "mZ7ikwqElFF4"
      },
      "execution_count": 2,
      "outputs": []
    },
    {
      "cell_type": "code",
      "source": [
        "# tabulate sin(x) cos(x)\n",
        "\n",
        "arr = np.linspace(0, 2*pi, 1000)\n",
        "\n",
        "sin_arr = []\n",
        "cos_arr = []\n",
        "\n",
        "for x in arr:\n",
        "  sin_arr.append(sinx(x))\n",
        "  cos_arr.append(cosx(x))"
      ],
      "metadata": {
        "id": "JIkwwkf6lhuf"
      },
      "execution_count": 3,
      "outputs": []
    },
    {
      "cell_type": "code",
      "source": [
        "# print first 10  values of x and sin/cos(x)\n",
        "for i in range(10):\n",
        "  print('x = %f, sin(x) = %f, cos(x) = %f' % (arr[i], sin_arr[i], cos_arr[i]))"
      ],
      "metadata": {
        "colab": {
          "base_uri": "https://localhost:8080/"
        },
        "id": "AHTJG5N3l933",
        "outputId": "b1c3edb0-9829-4de5-cb99-ac208daecb62"
      },
      "execution_count": 9,
      "outputs": [
        {
          "output_type": "stream",
          "name": "stdout",
          "text": [
            "x = 0.000000, sin(x) = 0.000000, cos(x) = 1.000000\n",
            "x = 0.006289, sin(x) = 0.006289, cos(x) = 0.999980\n",
            "x = 0.012579, sin(x) = 0.012579, cos(x) = 0.999921\n",
            "x = 0.018868, sin(x) = 0.018867, cos(x) = 0.999822\n",
            "x = 0.025158, sin(x) = 0.025155, cos(x) = 0.999684\n",
            "x = 0.031447, sin(x) = 0.031442, cos(x) = 0.999506\n",
            "x = 0.037737, sin(x) = 0.037728, cos(x) = 0.999288\n",
            "x = 0.044026, sin(x) = 0.044012, cos(x) = 0.999031\n",
            "x = 0.050316, sin(x) = 0.050295, cos(x) = 0.998734\n",
            "x = 0.056605, sin(x) = 0.056575, cos(x) = 0.998398\n"
          ]
        }
      ]
    }
  ]
}